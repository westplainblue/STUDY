{
  "nbformat": 4,
  "nbformat_minor": 0,
  "metadata": {
    "colab": {
      "name": "TK210466_12_pre_AoiNISHIHARA.ipynb",
      "provenance": []
    },
    "kernelspec": {
      "name": "python3",
      "display_name": "Python 3"
    },
    "language_info": {
      "name": "python"
    },
    "accelerator": "GPU",
    "gpuClass": "standard"
  },
  "cells": [
    {
      "cell_type": "code",
      "execution_count": null,
      "metadata": {
        "colab": {
          "base_uri": "https://localhost:8080/"
        },
        "id": "JkxrmYQS3V77",
        "outputId": "0df3b6a6-d1ee-4a28-d99c-eefe48111f82"
      },
      "outputs": [
        {
          "output_type": "stream",
          "name": "stdout",
          "text": [
            "Epoch 1/20\n",
            "59/59 [==============================] - 16s 75ms/step - loss: 0.4507 - accuracy: 0.8584 - val_loss: 0.0770 - val_accuracy: 0.9754\n",
            "Epoch 2/20\n",
            "59/59 [==============================] - 3s 57ms/step - loss: 0.0952 - accuracy: 0.9710 - val_loss: 0.0425 - val_accuracy: 0.9861\n",
            "Epoch 3/20\n",
            "59/59 [==============================] - 3s 57ms/step - loss: 0.0627 - accuracy: 0.9802 - val_loss: 0.0339 - val_accuracy: 0.9890\n",
            "Epoch 4/20\n",
            "59/59 [==============================] - 3s 57ms/step - loss: 0.0486 - accuracy: 0.9845 - val_loss: 0.0282 - val_accuracy: 0.9898\n",
            "Epoch 5/20\n",
            "59/59 [==============================] - 3s 58ms/step - loss: 0.0412 - accuracy: 0.9870 - val_loss: 0.0256 - val_accuracy: 0.9905\n",
            "Epoch 6/20\n",
            "59/59 [==============================] - 3s 57ms/step - loss: 0.0364 - accuracy: 0.9892 - val_loss: 0.0231 - val_accuracy: 0.9912\n",
            "Epoch 7/20\n",
            "59/59 [==============================] - 3s 58ms/step - loss: 0.0330 - accuracy: 0.9899 - val_loss: 0.0242 - val_accuracy: 0.9917\n",
            "Epoch 8/20\n",
            "59/59 [==============================] - 3s 59ms/step - loss: 0.0293 - accuracy: 0.9909 - val_loss: 0.0240 - val_accuracy: 0.9921\n",
            "Epoch 9/20\n",
            "59/59 [==============================] - 3s 58ms/step - loss: 0.0268 - accuracy: 0.9916 - val_loss: 0.0201 - val_accuracy: 0.9937\n",
            "Epoch 10/20\n",
            "59/59 [==============================] - 3s 58ms/step - loss: 0.0232 - accuracy: 0.9929 - val_loss: 0.0200 - val_accuracy: 0.9930\n",
            "Epoch 11/20\n",
            "59/59 [==============================] - 4s 59ms/step - loss: 0.0197 - accuracy: 0.9934 - val_loss: 0.0221 - val_accuracy: 0.9925\n",
            "Epoch 12/20\n",
            "59/59 [==============================] - 3s 59ms/step - loss: 0.0188 - accuracy: 0.9937 - val_loss: 0.0193 - val_accuracy: 0.9936\n",
            "Epoch 13/20\n",
            "59/59 [==============================] - 3s 58ms/step - loss: 0.0187 - accuracy: 0.9935 - val_loss: 0.0179 - val_accuracy: 0.9940\n",
            "Epoch 14/20\n",
            "59/59 [==============================] - 3s 59ms/step - loss: 0.0166 - accuracy: 0.9943 - val_loss: 0.0176 - val_accuracy: 0.9939\n",
            "Epoch 15/20\n",
            "59/59 [==============================] - 3s 59ms/step - loss: 0.0139 - accuracy: 0.9952 - val_loss: 0.0198 - val_accuracy: 0.9934\n",
            "Epoch 16/20\n",
            "59/59 [==============================] - 4s 61ms/step - loss: 0.0155 - accuracy: 0.9949 - val_loss: 0.0189 - val_accuracy: 0.9934\n",
            "Epoch 17/20\n",
            "59/59 [==============================] - 3s 59ms/step - loss: 0.0141 - accuracy: 0.9954 - val_loss: 0.0190 - val_accuracy: 0.9932\n",
            "Epoch 18/20\n",
            "59/59 [==============================] - 3s 59ms/step - loss: 0.0114 - accuracy: 0.9963 - val_loss: 0.0170 - val_accuracy: 0.9944\n",
            "Epoch 19/20\n",
            "59/59 [==============================] - 3s 59ms/step - loss: 0.0108 - accuracy: 0.9963 - val_loss: 0.0187 - val_accuracy: 0.9944\n",
            "Epoch 20/20\n",
            "59/59 [==============================] - 4s 60ms/step - loss: 0.0113 - accuracy: 0.9963 - val_loss: 0.0191 - val_accuracy: 0.9941\n",
            "test loss: 0.019072644412517548\n",
            "test accuracy: 0.9940999746322632\n",
            "computation time:82.943 sec\n"
          ]
        }
      ],
      "source": [
        "\n",
        "\n",
        "from keras.datasets import mnist\n",
        "import keras\n",
        "from tensorflow import keras\n",
        "from keras.models import Sequential\n",
        "from keras.layers import Conv2D, MaxPooling2D\n",
        "from keras.layers import Dense, Dropout, Flatten\n",
        "from tensorflow.keras.optimizers import Adam\n",
        "import time\n",
        "\n",
        "\n",
        "(x_train, y_train), (x_test, y_test) = mnist.load_data()\n",
        "x_train = x_train.reshape(x_train.shape[0], 28, 28, 1)\n",
        "x_test = x_test.reshape(x_test.shape[0], 28, 28, 1)\n",
        "x_train = x_train.astype('float32')/255\n",
        "x_test = x_test.astype('float32')/255\n",
        "\n",
        "\n",
        "y_train = keras.utils.to_categorical(y_train, 10)\n",
        "y_test = keras.utils.to_categorical(y_test, 10)\n",
        "\n",
        "\n",
        "model = Sequential()\n",
        "model.add(Conv2D(16, (3, 3), padding='same',\n",
        "                 input_shape=(28, 28, 1), activation='relu'))\n",
        "model.add(MaxPooling2D(pool_size=(2, 2)))\n",
        "model.add(Conv2D(128, (3, 3), activation='relu'))\n",
        "model.add(Conv2D(256, (3, 3), activation='relu'))\n",
        "model.add(MaxPooling2D(pool_size=(2, 2)))\n",
        "model.add(Dropout(0.5))\n",
        "model.add(Flatten())\n",
        "model.add(Dense(128, activation='relu'))\n",
        "model.add(Dropout(0.25))\n",
        "model.add(Dense(10, activation='softmax'))\n",
        "\n",
        "\n",
        "model.compile(loss='categorical_crossentropy',\n",
        "              optimizer=Adam(),\n",
        "              metrics=['accuracy'])\n",
        "\n",
        "\n",
        "start_time = time.time()\n",
        "\n",
        "\n",
        "history = model.fit(x_train, y_train, batch_size=1024, epochs=20,\n",
        "                    verbose=1, validation_data=(x_test, y_test))\n",
        "\n",
        "\n",
        "score = model.evaluate(x_test, y_test, verbose= 0)\n",
        "print(\"test loss:\", score[0])\n",
        "print(\"test accuracy:\", score[1])\n",
        "print(\"computation time:{0:.3f} sec\".format(time.time()-start_time))\n",
        "\n"
      ]
    }
  ]
}