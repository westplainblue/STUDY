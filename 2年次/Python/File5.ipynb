{
  "nbformat": 4,
  "nbformat_minor": 0,
  "metadata": {
    "colab": {
      "name": "TK210466_13_post_AOINISHIHARA.ipynb",
      "provenance": [],
      "collapsed_sections": []
    },
    "kernelspec": {
      "name": "python3",
      "display_name": "Python 3"
    },
    "language_info": {
      "name": "python"
    },
    "gpuClass": "standard",
    "accelerator": "GPU"
  },
  "cells": [
    {
      "cell_type": "code",
      "source": [
        "import torch\n",
        "\n",
        "if torch.cuda.is_available():\n",
        "    device = torch.device(\"cuda\")\n",
        "else:\n",
        "    device = torch.device(\"cpu\")\n",
        "\n",
        "print(\"using\", device, \"device\")\n"
      ],
      "metadata": {
        "colab": {
          "base_uri": "https://localhost:8080/"
        },
        "id": "oVdJMUlagNVi",
        "outputId": "0a435e76-67ca-41ce-8d79-91b140550a4e"
      },
      "execution_count": 1,
      "outputs": [
        {
          "output_type": "stream",
          "name": "stdout",
          "text": [
            "using cuda device\n"
          ]
        }
      ]
    },
    {
      "cell_type": "code",
      "source": [
        "import time\n",
        "\n",
        "matrix_size = 30*512\n",
        "\n",
        "x = torch.randn(matrix_size, matrix_size)\n",
        "y = torch.randn(matrix_size, matrix_size)\n",
        "\n",
        "print(\"************ CPU SPEED ***************\")\n",
        "start = time.time()\n",
        "result = torch.matmul(x,y)\n",
        "print(time.time() - start)\n",
        "print(\"verify device:\", result.device)\n",
        "\n",
        "x_gpu = x.to(device)\n",
        "y_gpu = y.to(device)\n",
        "torch.cuda.synchronize()\n",
        "\n",
        "for i in range(3):\n",
        "    print(\"************ GPU SPEED ***************\")\n",
        "    start = time.time()\n",
        "    result_gpu = torch.matmul(x_gpu,y_gpu)\n",
        "    torch.cuda.synchronize()\n",
        "    print(time.time() - start)\n",
        "    print(\"verify device:\", result_gpu.device)"
      ],
      "metadata": {
        "colab": {
          "base_uri": "https://localhost:8080/"
        },
        "id": "HUsLsXmWgK1o",
        "outputId": "bf60ef1c-b3c4-4063-ddd5-c2e86b336aca"
      },
      "execution_count": 2,
      "outputs": [
        {
          "output_type": "stream",
          "name": "stdout",
          "text": [
            "************ CPU SPEED ***************\n",
            "86.97302317619324\n",
            "verify device: cpu\n",
            "************ GPU SPEED ***************\n",
            "4.145363807678223\n",
            "verify device: cuda:0\n",
            "************ GPU SPEED ***************\n",
            "1.8695495128631592\n",
            "verify device: cuda:0\n",
            "************ GPU SPEED ***************\n",
            "1.8792357444763184\n",
            "verify device: cuda:0\n"
          ]
        }
      ]
    },
    {
      "cell_type": "markdown",
      "source": [
        "上記の結果よりこのプログラミングではCPUよりGPUの方が実行スピードが早いことがわかる。また１つ目のGPUの計算では初期化が行われるため遅いが2回目以降は1回目よりも早い結果になっている。またCPUとGPUの実行結果の違いとしては実行の順番が関係しているのではないかと考察しました。"
      ],
      "metadata": {
        "id": "vaJjsX_EhPNr"
      }
    }
  ]
}