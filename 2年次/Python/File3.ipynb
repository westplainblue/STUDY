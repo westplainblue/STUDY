{
  "nbformat": 4,
  "nbformat_minor": 0,
  "metadata": {
    "colab": {
      "name": "TK210466_12_post_AOINISHIHARA.ipynb",
      "provenance": [],
      "collapsed_sections": []
    },
    "kernelspec": {
      "name": "python3",
      "display_name": "Python 3"
    },
    "language_info": {
      "name": "python"
    }
  },
  "cells": [
    {
      "cell_type": "code",
      "execution_count": 3,
      "metadata": {
        "colab": {
          "base_uri": "https://localhost:8080/"
        },
        "id": "DQaaMm_G56UP",
        "outputId": "2b3d2bee-ec7f-4295-fc85-10a3c6e46dd9"
      },
      "outputs": [
        {
          "output_type": "execute_result",
          "data": {
            "text/plain": [
              "0.9733333333333334"
            ]
          },
          "metadata": {},
          "execution_count": 3
        }
      ],
      "source": [
        "\n",
        "from sklearn.ensemble import RandomForestClassifier\n",
        "from sklearn import datasets\n",
        "from sklearn.model_selection import train_test_split\n",
        "\n",
        "iris = datasets.load_iris()\n",
        "\n",
        "data       = iris['data']\n",
        "target     = iris['target']\n",
        "\n",
        "train_data,test_data,train_target,test_target = train_test_split(data,target,test_size=0.5)\n",
        "\n",
        "model = RandomForestClassifier(n_estimators=100)\n",
        "model.fit(train_data, train_target)\n",
        "\n",
        "model.score(test_data, test_target)\n",
        "#このプログラミングはクラス分類である\n",
        "#このプログラミングは未知のデータに対してどれほどの予測精度かを算出するプログラミングです。"
      ]
    }
  ]
}