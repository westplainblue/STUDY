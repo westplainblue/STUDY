{
  "nbformat": 4,
  "nbformat_minor": 0,
  "metadata": {
    "colab": {
      "provenance": [],
      "collapsed_sections": []
    },
    "kernelspec": {
      "name": "python3",
      "display_name": "Python 3"
    },
    "language_info": {
      "name": "python"
    }
  },
  "cells": [
    {
      "cell_type": "code",
      "execution_count": 2,
      "metadata": {
        "colab": {
          "base_uri": "https://localhost:8080/"
        },
        "id": "rrO15K4RES3f",
        "outputId": "30c4b349-aa91-4987-dfc0-7646fc9c111d"
      },
      "outputs": [
        {
          "output_type": "stream",
          "name": "stdout",
          "text": [
            "正解率 =  1.0\n"
          ]
        }
      ],
      "source": [
        "import pandas as pd\n",
        "from sklearn.model_selection import train_test_split\n",
        "from sklearn.svm import SVC\n",
        "from sklearn.metrics import accuracy_score\n",
        "\n",
        "# アヤメデータの読み込み --- (*1)\n",
        "iris_data = pd.read_csv(\"iris.csv\", encoding=\"utf-8\")\n",
        "\n",
        "# アヤメデータをラベルと入力データに分離する --- (*2)\n",
        "y = iris_data.loc[:,\"Name\"]\n",
        "x = iris_data.loc[:,[\"SepalLength\",\"SepalWidth\",\"PetalLength\",\"PetalWidth\"]]\n",
        "\n",
        "# 学習用とテスト用に分離する --- (*3)\n",
        "x_train, x_test, y_train, y_test = train_test_split(x, y, test_size = 0.2, train_size = 0.8, shuffle = True)\n",
        "\n",
        "# 学習する --- (*4)\n",
        "clf = SVC()\n",
        "clf.fit(x_train, y_train)\n",
        "\n",
        "# 評価する --- (*5)\n",
        "y_pred = clf.predict(x_test)\n",
        "print(\"正解率 = \" , accuracy_score(y_test, y_pred))"
      ]
    },
    {
      "cell_type": "code",
      "source": [
        "import pandas as pd\n",
        "x_test.to_csv('x_test_1.csv', index=False)"
      ],
      "metadata": {
        "id": "EsxCgD-3Hj7O"
      },
      "execution_count": 3,
      "outputs": []
    },
    {
      "cell_type": "code",
      "source": [
        "!ls -la"
      ],
      "metadata": {
        "colab": {
          "base_uri": "https://localhost:8080/"
        },
        "id": "AKHgSc1qH6hG",
        "outputId": "60ee3e09-57e9-4401-e8d0-4c3ee6dd8ea7"
      },
      "execution_count": 4,
      "outputs": [
        {
          "output_type": "stream",
          "name": "stdout",
          "text": [
            "total 28\n",
            "drwxr-xr-x 1 root root 4096 Oct 11 07:01 .\n",
            "drwxr-xr-x 1 root root 4096 Oct 11 06:58 ..\n",
            "drwxr-xr-x 4 root root 4096 Oct  7 13:34 .config\n",
            "-rw-r--r-- 1 root root 4600 Oct 11 07:01 iris.csv\n",
            "drwxr-xr-x 1 root root 4096 Oct  7 13:35 sample_data\n",
            "-rw-r--r-- 1 root root  526 Oct 11 07:01 x_test_1.csv\n"
          ]
        }
      ]
    },
    {
      "cell_type": "code",
      "source": [
        "from google.colab import files\n",
        "files.download(\"x_test_1.csv\")"
      ],
      "metadata": {
        "colab": {
          "base_uri": "https://localhost:8080/",
          "height": 17
        },
        "id": "tTAvgXu7H9Ec",
        "outputId": "11215cdf-95e0-4b45-e41b-831513daa102"
      },
      "execution_count": 5,
      "outputs": [
        {
          "output_type": "display_data",
          "data": {
            "text/plain": [
              "<IPython.core.display.Javascript object>"
            ],
            "application/javascript": [
              "\n",
              "    async function download(id, filename, size) {\n",
              "      if (!google.colab.kernel.accessAllowed) {\n",
              "        return;\n",
              "      }\n",
              "      const div = document.createElement('div');\n",
              "      const label = document.createElement('label');\n",
              "      label.textContent = `Downloading \"${filename}\": `;\n",
              "      div.appendChild(label);\n",
              "      const progress = document.createElement('progress');\n",
              "      progress.max = size;\n",
              "      div.appendChild(progress);\n",
              "      document.body.appendChild(div);\n",
              "\n",
              "      const buffers = [];\n",
              "      let downloaded = 0;\n",
              "\n",
              "      const channel = await google.colab.kernel.comms.open(id);\n",
              "      // Send a message to notify the kernel that we're ready.\n",
              "      channel.send({})\n",
              "\n",
              "      for await (const message of channel.messages) {\n",
              "        // Send a message to notify the kernel that we're ready.\n",
              "        channel.send({})\n",
              "        if (message.buffers) {\n",
              "          for (const buffer of message.buffers) {\n",
              "            buffers.push(buffer);\n",
              "            downloaded += buffer.byteLength;\n",
              "            progress.value = downloaded;\n",
              "          }\n",
              "        }\n",
              "      }\n",
              "      const blob = new Blob(buffers, {type: 'application/binary'});\n",
              "      const a = document.createElement('a');\n",
              "      a.href = window.URL.createObjectURL(blob);\n",
              "      a.download = filename;\n",
              "      div.appendChild(a);\n",
              "      a.click();\n",
              "      div.remove();\n",
              "    }\n",
              "  "
            ]
          },
          "metadata": {}
        },
        {
          "output_type": "display_data",
          "data": {
            "text/plain": [
              "<IPython.core.display.Javascript object>"
            ],
            "application/javascript": [
              "download(\"download_f8948c4d-6691-4b68-9516-59ef6e5839bf\", \"x_test_1.csv\", 526)"
            ]
          },
          "metadata": {}
        }
      ]
    },
    {
      "cell_type": "code",
      "source": [
        "x_test = pd.read_csv(\"/content/x_test_2.csv\")\n",
        "clf = SVC()\n",
        "clf.fit(x_train, y_train)\n",
        "\n",
        "# 評価する --- (*5)\n",
        "y_pred = clf.predict(x_test)\n",
        "print(\"正解率 = \" , accuracy_score(y_test, y_pred))"
      ],
      "metadata": {
        "id": "41Ezhr4lIHXc",
        "colab": {
          "base_uri": "https://localhost:8080/"
        },
        "outputId": "5447770f-1d70-46c1-82a2-0311d094bf04"
      },
      "execution_count": 6,
      "outputs": [
        {
          "output_type": "stream",
          "name": "stdout",
          "text": [
            "正解率 =  0.5\n"
          ]
        }
      ]
    },
    {
      "cell_type": "code",
      "source": [],
      "metadata": {
        "id": "8EGhGkH2A9ng"
      },
      "execution_count": null,
      "outputs": []
    },
    {
      "cell_type": "markdown",
      "source": [
        "x_test_1をダウンロードし、データを変えたうえで再度アップロードし、正解率を算出しました。"
      ],
      "metadata": {
        "id": "SxhlYHiT3DfN"
      }
    }
  ]
}